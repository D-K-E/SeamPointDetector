{
 "cells": [
  {
   "cell_type": "markdown",
   "metadata": {},
   "source": [
    "### Seam Point Detector\n",
    "\n",
    "The goal of this progam is to detect the best points to start seam marking with best parameters.\n",
    "The parameters are: \n",
    "\n",
    "- points\n",
    "- threshold\n",
    "- direction\n",
    "\n",
    "For each image, I need to find a point with a threshold and direction.\n",
    "\n",
    "Let's import the libraries"
   ]
  },
  {
   "cell_type": "code",
   "execution_count": 22,
   "metadata": {},
   "outputs": [],
   "source": [
    "import os\n",
    "import numpy as np\n",
    "from PIL import Image, ImageOps\n",
    "import sklearn as sk\n",
    "from sklearn import datasets\n",
    "from sklearn.multiclass import OneVsRestClassifier\n",
    "from sklearn.multioutput import ClassifierChain\n",
    "from sklearn.multioutput import RegressorChain\n",
    "import matplotlib.pyplot as plt\n",
    "import json"
   ]
  },
  {
   "cell_type": "markdown",
   "metadata": {},
   "source": [
    "Target Shape:\n",
    "\n",
    "- col1: x\n",
    "- col2: y\n",
    "- col3: direction: 0: left, 90: up, 180: right, 270: down.\n",
    "- col4: thresh"
   ]
  },
  {
   "cell_type": "code",
   "execution_count": 53,
   "metadata": {},
   "outputs": [],
   "source": [
    "def load_asset(image_path: str, point_path: str):\n",
    "    img = Image.open(image_path)\n",
    "    img = ImageOps.grayscale(img.copy())\n",
    "    imarr = np.array(img)\n",
    "    imarr = imarr.astype(np.float)\n",
    "    rowh = imarr.shape[0]\n",
    "    colw = imarr.shape[1]\n",
    "    with open(point_path, 'r') as f:\n",
    "        points = json.load(f)\n",
    "    nb_points = len(points.keys())\n",
    "    y_arr = np.zeros((nb_points, 4), dtype=np.float32)\n",
    "    for i, point in points.items():\n",
    "        x = float(point['x'])\n",
    "        y = float(point['y'])\n",
    "        direction = point['direction']\n",
    "        threshold = float(point['threshold'])\n",
    "        if direction == 'up':\n",
    "            direction = 90.0\n",
    "        elif direction == 'left':\n",
    "            direction = 0.0\n",
    "        elif direction == 'right':\n",
    "            direction = 180.0\n",
    "        elif direction == 'down':\n",
    "            direction = 270.0\n",
    "        y_arr[int(i), :] = [x/colw, y/rowh, direction/360, threshold/100]\n",
    "    \n",
    "    # normalize pixel vals\n",
    "    x_arr = imarr / 255.0\n",
    "    coordarr = np.array([[[r, c] for c in range(x_arr.shape[1])] for r in range(x_arr.shape[0])], \n",
    "                        dtype=np.float)\n",
    "    coordarr = coordarr.reshape((-1, 2))\n",
    "    # normalize coordinates to -1 , 1\n",
    "    coordarr[:, 0] = np.interp(coordarr[:, 0], \n",
    "                         [coordarr[:, 0].min(), coordarr[:, 0].max()], \n",
    "                         [-1, 1])\n",
    "    coordarr[:, 1] = np.interp(coordarr[:, 1], \n",
    "                         [coordarr[:, 1].min(), coordarr[:, 1].max()], \n",
    "                         [-1, 1])\n",
    "    data_arr = np.zeros((x_arr.shape[0], \n",
    "                         x_arr.shape[1], 3), \n",
    "                        dtype=np.float)\n",
    "    data_arr = data_arr.reshape((-1, 3))\n",
    "    xshape = x_arr.shape\n",
    "    # x_arr = x_arr.flatten()\n",
    "    # data_arr[:, 2] = x_arr\n",
    "    # data_arr[:, :2] = coordarr\n",
    "    \n",
    "    # data_arr = data_arr.reshape((xshape[0], xshape[1], 1))\n",
    "    X_arr = np.zeros((nb_points, xshape[0], xshape[1]), dtype=np.float)\n",
    "    X_arr += x_arr\n",
    "    return X_arr, y_arr"
   ]
  },
  {
   "cell_type": "code",
   "execution_count": 54,
   "metadata": {},
   "outputs": [],
   "source": [
    "assetspath = os.path.join('.', 'assets')\n",
    "impath = os.path.join(assetspath, 'images')\n",
    "pointspath = os.path.join(assetspath, 'points')"
   ]
  },
  {
   "cell_type": "code",
   "execution_count": 55,
   "metadata": {},
   "outputs": [],
   "source": [
    "demotikImg = os.path.join(impath, 'demotik.png')\n",
    "demotikPoint = os.path.join(pointspath, 'demotik-points.json')"
   ]
  },
  {
   "cell_type": "code",
   "execution_count": 56,
   "metadata": {},
   "outputs": [],
   "source": [
    "data, target = load_asset(demotikImg, demotikPoint)"
   ]
  },
  {
   "cell_type": "code",
   "execution_count": 57,
   "metadata": {},
   "outputs": [
    {
     "name": "stdout",
     "output_type": "stream",
     "text": [
      "(22, 1413, 1448)\n",
      "(22, 4)\n",
      "(1413, 1448)\n",
      "(4,)\n"
     ]
    }
   ],
   "source": [
    "print(data.shape)\n",
    "print(target.shape)\n",
    "print(data[0].shape)\n",
    "print(target[0].shape)"
   ]
  },
  {
   "cell_type": "code",
   "execution_count": 62,
   "metadata": {},
   "outputs": [],
   "source": [
    "from tensorflow.keras import Sequential\n",
    "from tensorflow.keras.layers import Dense\n",
    "from tensorflow.keras.layers import Conv2D\n",
    "from tensorflow.keras.layers import Dropout\n",
    "from tensorflow.keras.layers import Activation\n",
    "from tensorflow.keras.layers import Flatten\n",
    "from tensorflow.keras.optimizers import RMSprop\n",
    "import pandas as pd"
   ]
  },
  {
   "cell_type": "code",
   "execution_count": 63,
   "metadata": {},
   "outputs": [
    {
     "name": "stdout",
     "output_type": "stream",
     "text": [
      "          x         y  direction  threshold\n",
      "0  0.970994  0.019108        0.0       0.02\n",
      "1  0.975829  0.059448        0.0       0.03\n",
      "2  0.973757  0.106865        0.0       0.02\n",
      "3  0.972376  0.142958        0.0       0.03\n",
      "4  0.970304  0.198160        0.0       0.02\n"
     ]
    }
   ],
   "source": [
    "colnames = ['x', 'y', 'direction', 'threshold']\n",
    "df_target = pd.DataFrame(target, columns=colnames)\n",
    "print(df_target.head())"
   ]
  },
  {
   "cell_type": "code",
   "execution_count": 91,
   "metadata": {},
   "outputs": [
    {
     "name": "stdout",
     "output_type": "stream",
     "text": [
      "_________________________________________________________________\n",
      "Layer (type)                 Output Shape              Param #   \n",
      "=================================================================\n",
      "dense_40 (Dense)             (None, 1413, 64)          92736     \n",
      "_________________________________________________________________\n",
      "activation_39 (Activation)   (None, 1413, 64)          0         \n",
      "_________________________________________________________________\n",
      "dense_41 (Dense)             (None, 1413, 32)          2080      \n",
      "_________________________________________________________________\n",
      "activation_40 (Activation)   (None, 1413, 32)          0         \n",
      "_________________________________________________________________\n",
      "dense_42 (Dense)             (None, 1413, 16)          528       \n",
      "_________________________________________________________________\n",
      "activation_41 (Activation)   (None, 1413, 16)          0         \n",
      "_________________________________________________________________\n",
      "flatten_11 (Flatten)         (None, 22608)             0         \n",
      "_________________________________________________________________\n",
      "dense_43 (Dense)             (None, 4)                 90436     \n",
      "_________________________________________________________________\n",
      "activation_42 (Activation)   (None, 4)                 0         \n",
      "=================================================================\n",
      "Total params: 185,780\n",
      "Trainable params: 185,780\n",
      "Non-trainable params: 0\n",
      "_________________________________________________________________\n"
     ]
    }
   ],
   "source": [
    "model = Sequential([\n",
    "    # first layer\n",
    "    Dense(units=64, input_shape=data[0].shape),\n",
    "    Activation('relu'),\n",
    "    Dense(units=32),\n",
    "    Activation('relu'),\n",
    "    Dense(units=16),\n",
    "    Activation('relu'),\n",
    "    # Last layer\n",
    "    Flatten(),\n",
    "    Dense(units=target[0].shape[0]),\n",
    "    Activation('tanh')\n",
    "])\n",
    "\n",
    "model.summary()"
   ]
  },
  {
   "cell_type": "code",
   "execution_count": 92,
   "metadata": {},
   "outputs": [
    {
     "name": "stdout",
     "output_type": "stream",
     "text": [
      "Train on 12 samples, validate on 4 samples\n",
      "Epoch 1/55\n",
      "12/12 [==============================] - 1s 52ms/sample - loss: 0.2685 - mean_absolute_error: 0.4495 - mean_squared_error: 0.2685 - val_loss: 0.2900 - val_mean_absolute_error: 0.5046 - val_mean_squared_error: 0.2900\n",
      "Epoch 2/55\n",
      "12/12 [==============================] - 0s 19ms/sample - loss: 0.2398 - mean_absolute_error: 0.4228 - mean_squared_error: 0.2398 - val_loss: 0.2641 - val_mean_absolute_error: 0.4800 - val_mean_squared_error: 0.2641\n",
      "Epoch 3/55\n",
      "12/12 [==============================] - 0s 18ms/sample - loss: 0.2188 - mean_absolute_error: 0.4033 - mean_squared_error: 0.2188 - val_loss: 0.2429 - val_mean_absolute_error: 0.4596 - val_mean_squared_error: 0.2429\n",
      "Epoch 4/55\n",
      "12/12 [==============================] - 0s 19ms/sample - loss: 0.2002 - mean_absolute_error: 0.3857 - mean_squared_error: 0.2002 - val_loss: 0.2243 - val_mean_absolute_error: 0.4415 - val_mean_squared_error: 0.2243\n",
      "Epoch 5/55\n",
      "12/12 [==============================] - 0s 19ms/sample - loss: 0.1832 - mean_absolute_error: 0.3688 - mean_squared_error: 0.1832 - val_loss: 0.2064 - val_mean_absolute_error: 0.4232 - val_mean_squared_error: 0.2064\n",
      "Epoch 6/55\n",
      "12/12 [==============================] - 0s 19ms/sample - loss: 0.1670 - mean_absolute_error: 0.3527 - mean_squared_error: 0.1670 - val_loss: 0.1893 - val_mean_absolute_error: 0.4053 - val_mean_squared_error: 0.1893\n",
      "Epoch 7/55\n",
      "12/12 [==============================] - 0s 19ms/sample - loss: 0.1513 - mean_absolute_error: 0.3355 - mean_squared_error: 0.1513 - val_loss: 0.1732 - val_mean_absolute_error: 0.3876 - val_mean_squared_error: 0.1732\n",
      "Epoch 8/55\n",
      "12/12 [==============================] - 0s 19ms/sample - loss: 0.1366 - mean_absolute_error: 0.3195 - mean_squared_error: 0.1366 - val_loss: 0.1580 - val_mean_absolute_error: 0.3704 - val_mean_squared_error: 0.1580\n",
      "Epoch 9/55\n",
      "12/12 [==============================] - 0s 19ms/sample - loss: 0.1223 - mean_absolute_error: 0.3032 - mean_squared_error: 0.1223 - val_loss: 0.1439 - val_mean_absolute_error: 0.3537 - val_mean_squared_error: 0.1439\n",
      "Epoch 10/55\n",
      "12/12 [==============================] - 0s 20ms/sample - loss: 0.1090 - mean_absolute_error: 0.2871 - mean_squared_error: 0.1090 - val_loss: 0.1300 - val_mean_absolute_error: 0.3364 - val_mean_squared_error: 0.1300\n",
      "Epoch 11/55\n",
      "12/12 [==============================] - 0s 19ms/sample - loss: 0.0962 - mean_absolute_error: 0.2707 - mean_squared_error: 0.0962 - val_loss: 0.1174 - val_mean_absolute_error: 0.3195 - val_mean_squared_error: 0.1174\n",
      "Epoch 12/55\n",
      "12/12 [==============================] - 0s 19ms/sample - loss: 0.0840 - mean_absolute_error: 0.2540 - mean_squared_error: 0.0840 - val_loss: 0.1051 - val_mean_absolute_error: 0.3022 - val_mean_squared_error: 0.1051\n",
      "Epoch 13/55\n",
      "12/12 [==============================] - 0s 18ms/sample - loss: 0.0728 - mean_absolute_error: 0.2377 - mean_squared_error: 0.0728 - val_loss: 0.0944 - val_mean_absolute_error: 0.2859 - val_mean_squared_error: 0.0944\n",
      "Epoch 14/55\n",
      "12/12 [==============================] - 0s 18ms/sample - loss: 0.0624 - mean_absolute_error: 0.2216 - mean_squared_error: 0.0624 - val_loss: 0.0842 - val_mean_absolute_error: 0.2692 - val_mean_squared_error: 0.0842\n",
      "Epoch 15/55\n",
      "12/12 [==============================] - 0s 17ms/sample - loss: 0.0527 - mean_absolute_error: 0.2048 - mean_squared_error: 0.0527 - val_loss: 0.0747 - val_mean_absolute_error: 0.2522 - val_mean_squared_error: 0.0747\n",
      "Epoch 16/55\n",
      "12/12 [==============================] - 0s 17ms/sample - loss: 0.0439 - mean_absolute_error: 0.1883 - mean_squared_error: 0.0439 - val_loss: 0.0663 - val_mean_absolute_error: 0.2356 - val_mean_squared_error: 0.0663\n",
      "Epoch 17/55\n",
      "12/12 [==============================] - 0s 18ms/sample - loss: 0.0361 - mean_absolute_error: 0.1721 - mean_squared_error: 0.0361 - val_loss: 0.0592 - val_mean_absolute_error: 0.2194 - val_mean_squared_error: 0.0592\n",
      "Epoch 18/55\n",
      "12/12 [==============================] - 0s 18ms/sample - loss: 0.0293 - mean_absolute_error: 0.1560 - mean_squared_error: 0.0293 - val_loss: 0.0529 - val_mean_absolute_error: 0.2035 - val_mean_squared_error: 0.0529\n",
      "Epoch 19/55\n",
      "12/12 [==============================] - 0s 18ms/sample - loss: 0.0235 - mean_absolute_error: 0.1398 - mean_squared_error: 0.0235 - val_loss: 0.0473 - val_mean_absolute_error: 0.1875 - val_mean_squared_error: 0.0473\n",
      "Epoch 20/55\n",
      "12/12 [==============================] - 0s 18ms/sample - loss: 0.0188 - mean_absolute_error: 0.1248 - mean_squared_error: 0.0188 - val_loss: 0.0432 - val_mean_absolute_error: 0.1728 - val_mean_squared_error: 0.0432\n",
      "Epoch 21/55\n",
      "12/12 [==============================] - 0s 18ms/sample - loss: 0.0149 - mean_absolute_error: 0.1101 - mean_squared_error: 0.0149 - val_loss: 0.0394 - val_mean_absolute_error: 0.1579 - val_mean_squared_error: 0.0394\n",
      "Epoch 22/55\n",
      "12/12 [==============================] - 0s 19ms/sample - loss: 0.0119 - mean_absolute_error: 0.0963 - mean_squared_error: 0.0119 - val_loss: 0.0367 - val_mean_absolute_error: 0.1442 - val_mean_squared_error: 0.0367\n",
      "Epoch 23/55\n",
      "12/12 [==============================] - 0s 19ms/sample - loss: 0.0097 - mean_absolute_error: 0.0833 - mean_squared_error: 0.0097 - val_loss: 0.0353 - val_mean_absolute_error: 0.1326 - val_mean_squared_error: 0.0353\n",
      "Epoch 24/55\n",
      "12/12 [==============================] - 0s 18ms/sample - loss: 0.0082 - mean_absolute_error: 0.0717 - mean_squared_error: 0.0082 - val_loss: 0.0344 - val_mean_absolute_error: 0.1224 - val_mean_squared_error: 0.0344\n",
      "Epoch 25/55\n",
      "12/12 [==============================] - 0s 19ms/sample - loss: 0.0072 - mean_absolute_error: 0.0619 - mean_squared_error: 0.0072 - val_loss: 0.0337 - val_mean_absolute_error: 0.1137 - val_mean_squared_error: 0.0337\n",
      "Epoch 26/55\n",
      "12/12 [==============================] - 0s 19ms/sample - loss: 0.0071 - mean_absolute_error: 0.0543 - mean_squared_error: 0.0071 - val_loss: 0.0338 - val_mean_absolute_error: 0.1079 - val_mean_squared_error: 0.0338\n",
      "Epoch 27/55\n",
      "12/12 [==============================] - 0s 18ms/sample - loss: 0.0065 - mean_absolute_error: 0.0481 - mean_squared_error: 0.0065 - val_loss: 0.0341 - val_mean_absolute_error: 0.1040 - val_mean_squared_error: 0.0341\n",
      "Epoch 28/55\n",
      "12/12 [==============================] - 0s 17ms/sample - loss: 0.0064 - mean_absolute_error: 0.0451 - mean_squared_error: 0.0064 - val_loss: 0.0344 - val_mean_absolute_error: 0.1016 - val_mean_squared_error: 0.0344\n",
      "Epoch 29/55\n",
      "12/12 [==============================] - 0s 17ms/sample - loss: 0.0065 - mean_absolute_error: 0.0438 - mean_squared_error: 0.0065 - val_loss: 0.0343 - val_mean_absolute_error: 0.0998 - val_mean_squared_error: 0.0343\n",
      "Epoch 30/55\n",
      "12/12 [==============================] - 0s 17ms/sample - loss: 0.0064 - mean_absolute_error: 0.0421 - mean_squared_error: 0.0064 - val_loss: 0.0338 - val_mean_absolute_error: 0.0984 - val_mean_squared_error: 0.0338\n",
      "Epoch 31/55\n",
      "12/12 [==============================] - 0s 18ms/sample - loss: 0.0064 - mean_absolute_error: 0.0422 - mean_squared_error: 0.0064 - val_loss: 0.0335 - val_mean_absolute_error: 0.0977 - val_mean_squared_error: 0.0335\n",
      "Epoch 32/55\n",
      "12/12 [==============================] - 0s 18ms/sample - loss: 0.0063 - mean_absolute_error: 0.0416 - mean_squared_error: 0.0063 - val_loss: 0.0343 - val_mean_absolute_error: 0.0982 - val_mean_squared_error: 0.0343\n",
      "Epoch 33/55\n",
      "12/12 [==============================] - 0s 18ms/sample - loss: 0.0064 - mean_absolute_error: 0.0412 - mean_squared_error: 0.0064 - val_loss: 0.0339 - val_mean_absolute_error: 0.0977 - val_mean_squared_error: 0.0339\n",
      "Epoch 34/55\n",
      "12/12 [==============================] - 0s 18ms/sample - loss: 0.0064 - mean_absolute_error: 0.0405 - mean_squared_error: 0.0064 - val_loss: 0.0343 - val_mean_absolute_error: 0.0974 - val_mean_squared_error: 0.0343\n",
      "Epoch 35/55\n",
      "12/12 [==============================] - 0s 18ms/sample - loss: 0.0063 - mean_absolute_error: 0.0403 - mean_squared_error: 0.0063 - val_loss: 0.0344 - val_mean_absolute_error: 0.0972 - val_mean_squared_error: 0.0344\n",
      "Epoch 36/55\n",
      "12/12 [==============================] - 0s 18ms/sample - loss: 0.0063 - mean_absolute_error: 0.0398 - mean_squared_error: 0.0063 - val_loss: 0.0336 - val_mean_absolute_error: 0.0960 - val_mean_squared_error: 0.0336\n"
     ]
    },
    {
     "name": "stdout",
     "output_type": "stream",
     "text": [
      "Epoch 37/55\n",
      "12/12 [==============================] - 0s 17ms/sample - loss: 0.0065 - mean_absolute_error: 0.0409 - mean_squared_error: 0.0065 - val_loss: 0.0336 - val_mean_absolute_error: 0.0956 - val_mean_squared_error: 0.0336\n",
      "Epoch 38/55\n",
      "12/12 [==============================] - 0s 17ms/sample - loss: 0.0063 - mean_absolute_error: 0.0397 - mean_squared_error: 0.0063 - val_loss: 0.0333 - val_mean_absolute_error: 0.0946 - val_mean_squared_error: 0.0333\n",
      "Epoch 39/55\n",
      "12/12 [==============================] - 0s 17ms/sample - loss: 0.0062 - mean_absolute_error: 0.0386 - mean_squared_error: 0.0062 - val_loss: 0.0334 - val_mean_absolute_error: 0.0946 - val_mean_squared_error: 0.0334\n",
      "Epoch 40/55\n",
      "12/12 [==============================] - 0s 17ms/sample - loss: 0.0062 - mean_absolute_error: 0.0386 - mean_squared_error: 0.0062 - val_loss: 0.0340 - val_mean_absolute_error: 0.0958 - val_mean_squared_error: 0.0340\n",
      "Epoch 41/55\n",
      "12/12 [==============================] - 0s 18ms/sample - loss: 0.0062 - mean_absolute_error: 0.0381 - mean_squared_error: 0.0062 - val_loss: 0.0342 - val_mean_absolute_error: 0.0957 - val_mean_squared_error: 0.0342\n",
      "Epoch 42/55\n",
      "12/12 [==============================] - 0s 17ms/sample - loss: 0.0063 - mean_absolute_error: 0.0388 - mean_squared_error: 0.0063 - val_loss: 0.0339 - val_mean_absolute_error: 0.0955 - val_mean_squared_error: 0.0339\n",
      "Epoch 43/55\n",
      "12/12 [==============================] - 0s 17ms/sample - loss: 0.0064 - mean_absolute_error: 0.0386 - mean_squared_error: 0.0064 - val_loss: 0.0345 - val_mean_absolute_error: 0.0968 - val_mean_squared_error: 0.0345\n",
      "Epoch 44/55\n",
      "12/12 [==============================] - 0s 17ms/sample - loss: 0.0065 - mean_absolute_error: 0.0400 - mean_squared_error: 0.0065 - val_loss: 0.0345 - val_mean_absolute_error: 0.0967 - val_mean_squared_error: 0.0345\n",
      "Epoch 45/55\n",
      "12/12 [==============================] - 0s 17ms/sample - loss: 0.0063 - mean_absolute_error: 0.0385 - mean_squared_error: 0.0063 - val_loss: 0.0347 - val_mean_absolute_error: 0.0956 - val_mean_squared_error: 0.0347\n",
      "Epoch 46/55\n",
      "12/12 [==============================] - 0s 17ms/sample - loss: 0.0065 - mean_absolute_error: 0.0384 - mean_squared_error: 0.0065 - val_loss: 0.0341 - val_mean_absolute_error: 0.0940 - val_mean_squared_error: 0.0341\n",
      "Epoch 47/55\n",
      "12/12 [==============================] - 0s 18ms/sample - loss: 0.0062 - mean_absolute_error: 0.0377 - mean_squared_error: 0.0062 - val_loss: 0.0343 - val_mean_absolute_error: 0.0952 - val_mean_squared_error: 0.0343\n",
      "Epoch 48/55\n",
      "12/12 [==============================] - 0s 17ms/sample - loss: 0.0063 - mean_absolute_error: 0.0396 - mean_squared_error: 0.0063 - val_loss: 0.0343 - val_mean_absolute_error: 0.0950 - val_mean_squared_error: 0.0343\n",
      "Epoch 49/55\n",
      "12/12 [==============================] - 0s 18ms/sample - loss: 0.0063 - mean_absolute_error: 0.0374 - mean_squared_error: 0.0063 - val_loss: 0.0342 - val_mean_absolute_error: 0.0943 - val_mean_squared_error: 0.0342\n",
      "Epoch 50/55\n",
      "12/12 [==============================] - 0s 18ms/sample - loss: 0.0062 - mean_absolute_error: 0.0379 - mean_squared_error: 0.0062 - val_loss: 0.0342 - val_mean_absolute_error: 0.0947 - val_mean_squared_error: 0.0342\n",
      "Epoch 51/55\n",
      "12/12 [==============================] - 0s 18ms/sample - loss: 0.0063 - mean_absolute_error: 0.0381 - mean_squared_error: 0.0063 - val_loss: 0.0340 - val_mean_absolute_error: 0.0948 - val_mean_squared_error: 0.0340\n",
      "Epoch 52/55\n",
      "12/12 [==============================] - 0s 18ms/sample - loss: 0.0064 - mean_absolute_error: 0.0391 - mean_squared_error: 0.0064 - val_loss: 0.0341 - val_mean_absolute_error: 0.0943 - val_mean_squared_error: 0.0341\n",
      "Epoch 53/55\n",
      "12/12 [==============================] - 0s 18ms/sample - loss: 0.0063 - mean_absolute_error: 0.0384 - mean_squared_error: 0.0063 - val_loss: 0.0347 - val_mean_absolute_error: 0.0951 - val_mean_squared_error: 0.0347\n",
      "Epoch 54/55\n",
      "12/12 [==============================] - 0s 18ms/sample - loss: 0.0063 - mean_absolute_error: 0.0392 - mean_squared_error: 0.0063 - val_loss: 0.0349 - val_mean_absolute_error: 0.0957 - val_mean_squared_error: 0.0349\n",
      "Epoch 55/55\n",
      "12/12 [==============================] - 0s 17ms/sample - loss: 0.0063 - mean_absolute_error: 0.0374 - mean_squared_error: 0.0063 - val_loss: 0.0352 - val_mean_absolute_error: 0.0952 - val_mean_squared_error: 0.0352\n"
     ]
    }
   ],
   "source": [
    "optimizer = RMSprop(0.000001)\n",
    "\n",
    "model.compile(loss='mean_squared_error',\n",
    "              optimizer=optimizer,\n",
    "              metrics=['mean_absolute_error', 'mean_squared_error'])\n",
    "\n",
    "hist = model.fit(data[6:], target[6:], epochs=55, verbose=1,\n",
    "                 batch_size=3,\n",
    "                 validation_split=0.2)"
   ]
  },
  {
   "cell_type": "code",
   "execution_count": 97,
   "metadata": {},
   "outputs": [
    {
     "data": {
      "image/png": "[encoded data removed]",
      "text/plain": [
       "<Figure size 432x288 with 1 Axes>"
      ]
     },
     "metadata": {
      "needs_background": "light"
     },
     "output_type": "display_data"
    },
    {
     "data": {
      "image/png": "[encoded data removed]",
      "text/plain": [
       "<Figure size 432x288 with 1 Axes>"
      ]
     },
     "metadata": {
      "needs_background": "light"
     },
     "output_type": "display_data"
    }
   ],
   "source": [
    "def plot_history(history):\n",
    "    hist = pd.DataFrame(history.history)\n",
    "    hist['epoch'] = history.epoch\n",
    "\n",
    "    plt.figure()\n",
    "    plt.xlabel('Epoch')\n",
    "    plt.ylabel('Mean Abs Error [MPG]')\n",
    "    plt.plot(hist['epoch'], hist['mean_absolute_error'],\n",
    "           label='Train Error')\n",
    "    plt.plot(hist['epoch'], hist['val_mean_absolute_error'],\n",
    "           label = 'Val Error')\n",
    "    plt.ylim([0,5])\n",
    "    plt.legend()\n",
    "\n",
    "    plt.figure()\n",
    "    plt.xlabel('Epoch')\n",
    "    plt.ylabel('Mean Square Error [$MPG^2$]')\n",
    "    plt.plot(hist['epoch'], hist['mean_squared_error'],\n",
    "           label='Train Error')\n",
    "    plt.plot(hist['epoch'], hist['val_mean_squared_error'],\n",
    "           label = 'Val Error')\n",
    "    plt.ylim([0,20])\n",
    "    plt.legend()\n",
    "    plt.show()\n",
    "\n",
    "plot_history(hist)"
   ]
  },
  {
   "cell_type": "code",
   "execution_count": 99,
   "metadata": {},
   "outputs": [],
   "source": [
    "# model.save('seam_example.h5')"
   ]
  },
  {
   "cell_type": "code",
   "execution_count": 100,
   "metadata": {},
   "outputs": [],
   "source": [
    "target_test = model.predict(data[:4])"
   ]
  },
  {
   "cell_type": "code",
   "execution_count": 102,
   "metadata": {},
   "outputs": [
    {
     "name": "stdout",
     "output_type": "stream",
     "text": [
      "prediction test:  [[0.97431517 0.5265869  0.00172224 0.0265542 ]\n",
      " [0.97431517 0.5265869  0.00172224 0.0265542 ]\n",
      " [0.97431517 0.5265869  0.00172224 0.0265542 ]\n",
      " [0.97431517 0.5265869  0.00172224 0.0265542 ]]\n",
      "prediction real:  [[0.9709945  0.01910828 0.         0.02      ]\n",
      " [0.9758287  0.05944798 0.         0.03      ]\n",
      " [0.9737569  0.10686482 0.         0.02      ]\n",
      " [0.9723757  0.14295824 0.         0.03      ]]\n"
     ]
    }
   ],
   "source": [
    "print(\"prediction test: \", target_test)\n",
    "print(\"prediction real: \", target[:4])"
   ]
  },
  {
   "cell_type": "markdown",
   "metadata": {},
   "source": [
    "Here is the nature of the architecture:\n",
    "\n",
    "- A binary classifier whether text region needs to be extracted.\n",
    "- A detector of text region.\n",
    "- The number of lines/columns by a simple signal processing.\n",
    "- Regression on the exact location of the point which can segment the text with seam carving, \n",
    "- the threshold and the direction of the carving."
   ]
  },
  {
   "cell_type": "code",
   "execution_count": null,
   "metadata": {},
   "outputs": [],
   "source": []
  }
 ],
 "metadata": {
  "kernelspec": {
   "display_name": "Python 3",
   "language": "python",
   "name": "python3"
  },
  "language_info": {
   "codemirror_mode": {
    "name": "ipython",
    "version": 3
   },
   "file_extension": ".py",
   "mimetype": "text/x-python",
   "name": "python",
   "nbconvert_exporter": "python",
   "pygments_lexer": "ipython3",
   "version": "3.7.3"
  }
 },
 "nbformat": 4,
 "nbformat_minor": 2
}
